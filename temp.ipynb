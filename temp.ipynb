{
 "cells": [
  {
   "cell_type": "code",
   "execution_count": 8,
   "metadata": {},
   "outputs": [],
   "source": [
    "import numpy as np\n",
    "import pandas as pd\n",
    "from typing import List\n",
    "\n",
    "from category_encoders.ordinal import OrdinalEncoder\n",
    "from category_encoders.woe import WOEEncoder\n",
    "from category_encoders.target_encoder import TargetEncoder\n",
    "from category_encoders.sum_coding import SumEncoder\n",
    "from category_encoders.m_estimate import MEstimateEncoder\n",
    "from category_encoders.backward_difference import BackwardDifferenceEncoder\n",
    "from category_encoders.leave_one_out import LeaveOneOutEncoder\n",
    "from category_encoders.helmert import HelmertEncoder\n",
    "from category_encoders.cat_boost import CatBoostEncoder\n",
    "from category_encoders.james_stein import JamesSteinEncoder\n",
    "from category_encoders.one_hot import OneHotEncoder\n",
    "from category_encoders.leave_one_out import LeaveOneOutEncoder\n",
    "from sklearn.model_selection import StratifiedKFold, RepeatedStratifiedKFold\n",
    "from scipy.stats import spearmanr\n",
    "import scipy.sparse as sp\n"
   ]
  },
  {
   "cell_type": "code",
   "execution_count": 9,
   "metadata": {},
   "outputs": [],
   "source": [
    "def get_single_encoder(encoder_name: str, cat_cols: list):\n",
    "    \"\"\"\n",
    "    Get encoder by its name\n",
    "    :param encoder_name: Name of desired encoder\n",
    "    :param cat_cols: Cat columns for encoding\n",
    "    :return: Categorical encoder\n",
    "    \"\"\"\n",
    "    if encoder_name == \"LeaveOneOutEncoder\":\n",
    "        encoder = LeaveOneOutEncoder(cols=cat_cols)\n",
    "\n",
    "    if encoder_name == \"FrequencyEncoder\":\n",
    "        encoder = FrequencyEncoder(cols=cat_cols)\n",
    "\n",
    "    if encoder_name == \"WOEEncoder\":\n",
    "        encoder = WOEEncoder(cols=cat_cols)\n",
    "\n",
    "    if encoder_name == \"TargetEncoder\":\n",
    "        encoder = TargetEncoder(cols=cat_cols)\n",
    "\n",
    "    if encoder_name == \"SumEncoder\":\n",
    "        encoder = SumEncoder(cols=cat_cols)\n",
    "\n",
    "    if encoder_name == \"MEstimateEncoder\":\n",
    "        encoder = MEstimateEncoder(cols=cat_cols)\n",
    "\n",
    "    if encoder_name == \"LeaveOneOutEncoder\":\n",
    "        encoder = LeaveOneOutEncoder(cols=cat_cols)\n",
    "\n",
    "    if encoder_name == \"HelmertEncoder\":\n",
    "        encoder = HelmertEncoder(cols=cat_cols)\n",
    "\n",
    "    if encoder_name == \"BackwardDifferenceEncoder\":\n",
    "        encoder = BackwardDifferenceEncoder(cols=cat_cols)\n",
    "\n",
    "    if encoder_name == \"JamesSteinEncoder\":\n",
    "        encoder = JamesSteinEncoder(cols=cat_cols)\n",
    "\n",
    "    if encoder_name == \"OrdinalEncoder\":\n",
    "        encoder = OrdinalEncoder(cols=cat_cols)\n",
    "\n",
    "    if encoder_name == \"CatBoostEncoder\":\n",
    "        encoder = CatBoostEncoder(cols=cat_cols)\n",
    "\n",
    "    if encoder_name == \"MEstimateEncoder\":\n",
    "        encoder = MEstimateEncoder(cols=cat_cols)\n",
    "    return encoder"
   ]
  },
  {
   "cell_type": "code",
   "execution_count": 10,
   "metadata": {},
   "outputs": [
    {
     "name": "stdout",
     "output_type": "stream",
     "text": [
      "       income\n",
      "0           1\n",
      "1           1\n",
      "2           2\n",
      "3           2\n",
      "4           1\n",
      "...       ...\n",
      "48837       1\n",
      "48838       2\n",
      "48839       1\n",
      "48840       1\n",
      "48841       2\n",
      "\n",
      "[48842 rows x 1 columns]\n"
     ]
    }
   ],
   "source": [
    "data = pd.read_csv(\"C:/CODE/JIO (JPL)/Feature_Encoding_Pipeline_AUTOML/data/adult.csv\")\n",
    "\n",
    "target = input(\"Enter Target Column = \")\n",
    "target_data = data[target]\n",
    "\n",
    "enc = get_single_encoder(\"OrdinalEncoder\", target)\n",
    "target_col = enc.fit_transform(target_data) #*\n",
    "print(target_col)\n"
   ]
  },
  {
   "cell_type": "code",
   "execution_count": 12,
   "metadata": {},
   "outputs": [
    {
     "name": "stdout",
     "output_type": "stream",
     "text": [
      "\n",
      "Low cardinality ====> \n",
      " 0        1.243977\n",
      "1        1.243977\n",
      "2        1.243977\n",
      "3        1.243977\n",
      "4        1.243977\n",
      "           ...   \n",
      "48837    1.243977\n",
      "48838    1.243977\n",
      "48839    1.243977\n",
      "48840    1.243977\n",
      "48841    1.243977\n",
      "Name: native-country, Length: 48842, dtype: float64\n"
     ]
    },
    {
     "name": "stderr",
     "output_type": "stream",
     "text": [
      "C:\\Users\\roshu\\AppData\\Roaming\\Python\\Python39\\site-packages\\category_encoders\\utils.py:21: FutureWarning: is_categorical is deprecated and will be removed in a future version.  Use is_categorical_dtype instead\n",
      "  elif pd.api.types.is_categorical(cols):\n"
     ]
    }
   ],
   "source": [
    "enc = get_single_encoder(\"TargetEncoder\", [\"native-country\"])\n",
    "data[\"native-country\"] = enc.fit_transform(data[\"native-country\"],target_col) #*\n",
    "                \n",
    "print(\"\\nLow cardinality ====> \\n\",data[\"native-country\"])"
   ]
  },
  {
   "cell_type": "code",
   "execution_count": null,
   "metadata": {},
   "outputs": [],
   "source": [
    "# import modules\n",
    "import qrcode\n",
    "from PIL import Image\n",
    "\n",
    "# taking image which user wants\n",
    "# in the QR code center\n",
    "Logo_link = 'g4g.jpg'\n",
    "\n",
    "logo = Image.open(Logo_link)\n",
    "\n",
    "# taking base width\n",
    "basewidth = 100\n",
    "\n",
    "# adjust image size\n",
    "wpercent = (basewidth/float(logo.size[0]))\n",
    "hsize = int((float(logo.size[1])*float(wpercent)))\n",
    "logo = logo.resize((basewidth, hsize), Image.ANTIALIAS)\n",
    "QRcode = qrcode.QRCode(\n",
    "\terror_correction=qrcode.constants.ERROR_CORRECT_H\n",
    ")\n",
    "\n",
    "# taking url or text\n",
    "url = 'https://www.geeksforgeeks.org/'\n",
    "\n",
    "# adding URL or text to QRcode\n",
    "QRcode.add_data(url)\n",
    "\n",
    "# generating QR code\n",
    "QRcode.make()\n",
    "\n",
    "# taking color name from user\n",
    "QRcolor = 'Green'\n",
    "\n",
    "# adding color to QR code\n",
    "QRimg = QRcode.make_image(\n",
    "\tfill_color=QRcolor, back_color=\"white\").convert('RGB')\n",
    "\n",
    "# set size of QR code\n",
    "pos = ((QRimg.size[0] - logo.size[0]) // 2,\n",
    "\t(QRimg.size[1] - logo.size[1]) // 2)\n",
    "QRimg.paste(logo, pos)\n",
    "\n",
    "# save the QR code generated\n",
    "QRimg.save('gfg_QR.png')\n",
    "\n",
    "print('QR code generated!')\n"
   ]
  }
 ],
 "metadata": {
  "kernelspec": {
   "display_name": "Python 3",
   "language": "python",
   "name": "python3"
  },
  "language_info": {
   "codemirror_mode": {
    "name": "ipython",
    "version": 3
   },
   "file_extension": ".py",
   "mimetype": "text/x-python",
   "name": "python",
   "nbconvert_exporter": "python",
   "pygments_lexer": "ipython3",
   "version": "3.9.0"
  },
  "orig_nbformat": 4
 },
 "nbformat": 4,
 "nbformat_minor": 2
}
